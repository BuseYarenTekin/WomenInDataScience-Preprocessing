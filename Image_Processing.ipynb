{
  "nbformat": 4,
  "nbformat_minor": 0,
  "metadata": {
    "colab": {
      "name": "Görüntü İşleme.ipynb",
      "private_outputs": true,
      "provenance": [],
      "collapsed_sections": [],
      "toc_visible": true,
      "authorship_tag": "ABX9TyN5TprJ2PkIZpAklpBCciBb",
      "include_colab_link": true
    },
    "kernelspec": {
      "name": "python3",
      "display_name": "Python 3"
    },
    "language_info": {
      "name": "python"
    }
  },
  "cells": [
    {
      "cell_type": "markdown",
      "metadata": {
        "id": "view-in-github",
        "colab_type": "text"
      },
      "source": [
        "<a href=\"https://colab.research.google.com/github/BuseYarenTekin/WomenInDataScience-Preprocessing/blob/main/Image_Processing.ipynb\" target=\"_parent\"><img src=\"https://colab.research.google.com/assets/colab-badge.svg\" alt=\"Open In Colab\"/></a>"
      ]
    },
    {
      "cell_type": "markdown",
      "metadata": {
        "id": "FjkQm9TlX0uc"
      },
      "source": [
        "## OpenCV ile Görüntü İşleme\n",
        "\n",
        "Görüntü okuma - **cv2.imread(image)**"
      ]
    },
    {
      "cell_type": "code",
      "metadata": {
        "id": "EUknHQl4XzFA"
      },
      "source": [
        "from google.colab.patches import cv2_imshow\n",
        "image=cv2.imread('Lenna.png')\n",
        "image"
      ],
      "execution_count": null,
      "outputs": []
    },
    {
      "cell_type": "markdown",
      "metadata": {
        "id": "I74d0GXyYxax"
      },
      "source": [
        "Görüntünün Bastırılması - **cv2.imshow(image)**"
      ]
    },
    {
      "cell_type": "code",
      "metadata": {
        "id": "-1XlgDzXYtzl"
      },
      "source": [
        "cv2_imshow(image)"
      ],
      "execution_count": null,
      "outputs": []
    },
    {
      "cell_type": "code",
      "metadata": {
        "id": "xfN7M4qlZBnE"
      },
      "source": [
        "rows,cols,ch = image.shape\n",
        "print('Rows',rows,'Columns',cols,'Channel',ch)"
      ],
      "execution_count": null,
      "outputs": []
    },
    {
      "cell_type": "markdown",
      "metadata": {
        "id": "qpsKz-hwZomK"
      },
      "source": [
        "### Gaussian Yumuşatma"
      ]
    },
    {
      "cell_type": "code",
      "metadata": {
        "id": "i8Fcm9A9ZKpT"
      },
      "source": [
        "blurimage = cv2.GaussianBlur(image,(5,5),0)\n",
        "cv2_imshow(image)\n",
        "cv2_imshow(blurimage)"
      ],
      "execution_count": null,
      "outputs": []
    },
    {
      "cell_type": "markdown",
      "metadata": {
        "id": "7NMjcbi4bhlc"
      },
      "source": [
        "### Tuz-Biber Gürültüsü Eklenmiş Görüntüyü Yumuşatma"
      ]
    },
    {
      "cell_type": "code",
      "metadata": {
        "id": "iA9_F-z2bsHR"
      },
      "source": [
        "saltpepper=cv2.imread('saltandpepper.png')\n",
        "cv2_imshow(saltpepper)"
      ],
      "execution_count": null,
      "outputs": []
    },
    {
      "cell_type": "markdown",
      "metadata": {
        "id": "GEseZdukbQgq"
      },
      "source": [
        "### Median Bulanıklaştırma"
      ]
    },
    {
      "cell_type": "code",
      "metadata": {
        "id": "1ivjcyTvaSkZ"
      },
      "source": [
        "median = cv2.medianBlur(saltpepper,5)\n",
        "cv2_imshow(median)"
      ],
      "execution_count": null,
      "outputs": []
    },
    {
      "cell_type": "markdown",
      "metadata": {
        "id": "zZRO_qsmccs4"
      },
      "source": [
        "### HSV Renk Kanalı Dönüşümü"
      ]
    },
    {
      "cell_type": "code",
      "metadata": {
        "id": "9x63J1VHdVzj"
      },
      "source": [
        " HSVimage= cv2.cvtColor(image, cv2.COLOR_RGB2HSV)\n",
        " cv2_imshow(HSVimage)"
      ],
      "execution_count": null,
      "outputs": []
    },
    {
      "cell_type": "markdown",
      "metadata": {
        "id": "s07A_Z1VdqdF"
      },
      "source": [
        "### CIE-LAB Renk Kanalı Dönüşümü"
      ]
    },
    {
      "cell_type": "code",
      "metadata": {
        "id": "fmGtrvnidcMv"
      },
      "source": [
        "LABimage = cv2.cvtColor(image, cv2.COLOR_RGB2LAB)\n",
        "cv2_imshow(LABimage)"
      ],
      "execution_count": null,
      "outputs": []
    },
    {
      "cell_type": "markdown",
      "metadata": {
        "id": "AcU7Ownid39K"
      },
      "source": [
        "### Morfolojik İşlemler\n",
        "**1. Erosion (Aşınma):** Ön plandaki nesnenin sınırlarını aşındırır.\n",
        "* Orijinal görüntüdeki bir piksel, yalnızca kernel altındaki tüm pikseller 1 ise 1 olarak kabul edilir, aksi takdirde 0 yapılarak aşınır."
      ]
    },
    {
      "cell_type": "code",
      "metadata": {
        "id": "fl9SRasCdd9Y"
      },
      "source": [
        "import numpy as np\n",
        "grayimage = cv2.imread('Lenna.png',0)\n",
        "kernel = np.ones((5,5),np.uint8)\n",
        "erosion = cv2.erode(grayimage,kernel,iterations = 1)\n",
        "cv2_imshow(grayimage)\n",
        "cv2_imshow(erosion)"
      ],
      "execution_count": null,
      "outputs": []
    },
    {
      "cell_type": "markdown",
      "metadata": {
        "id": "S-wliBSRd-P9"
      },
      "source": [
        "**2. Dilation (Genişleme):** Burada, kernel altındaki en az bir piksel '1' ise piksel öğesi '1'dir. Böylece görüntüdeki beyaz bölgeyi artırır veya ön plandaki nesnenin boyutu artar."
      ]
    },
    {
      "cell_type": "code",
      "metadata": {
        "id": "AR7caW_yeH4j"
      },
      "source": [
        "dilation = cv2.dilate(grayimage,kernel,iterations = 1)\n",
        "cv2_imshow(grayimage)\n",
        "cv2_imshow(dilation)"
      ],
      "execution_count": null,
      "outputs": []
    },
    {
      "cell_type": "markdown",
      "metadata": {
        "id": "BW02cy_qhZt6"
      },
      "source": [
        "## Sınırlar\n",
        "\n",
        "### Canny Kenar Algılayıcısı\n",
        "Canny kenar algılayıcısı, görüntülerdeki çok çeşitli kenarları algılamak için çok aşamalı bir algoritma kullanan bir kenar algılama operatörüdür."
      ]
    },
    {
      "cell_type": "code",
      "metadata": {
        "id": "XU10xf6ohhLP"
      },
      "source": [
        "canny=cv2.Canny(image,100,200)\n",
        "cv2_imshow(canny)"
      ],
      "execution_count": null,
      "outputs": []
    },
    {
      "cell_type": "markdown",
      "metadata": {
        "id": "ajR3niLxj93I"
      },
      "source": [
        "### Sobel Filtresi\n",
        "Sobel'in kenar algılayıcısı, gerçekten başarılı ilk kenar algılama (geliştirme) tekniğinden biridir ve özünde evrişimi içerir."
      ]
    },
    {
      "cell_type": "code",
      "metadata": {
        "id": "GvXGgdF_jrgX"
      },
      "source": [
        "sobelimage=cv2.cvtColor(image,cv2.COLOR_BGR2GRAY)\n",
        "\n",
        "sobelx = cv2.Sobel(sobelimage,cv2.CV_64F,1,0,ksize=9)\n",
        "sobely = cv2.Sobel(sobelimage,cv2.CV_64F,0,1,ksize=9)\n",
        "plt.imshow(sobelx,cmap = 'gray') \n",
        "plt.imshow(sobely,cmap = 'gray')"
      ],
      "execution_count": null,
      "outputs": []
    },
    {
      "cell_type": "markdown",
      "metadata": {
        "id": "MSnMQpT4Ixb_"
      },
      "source": [
        "### Laplas Filtresi"
      ]
    },
    {
      "cell_type": "code",
      "metadata": {
        "id": "MBzsoKapIzv-"
      },
      "source": [
        "image=cv2.imread('Lenna.png',0)\n",
        "laplacian=cv2.Laplacian(image,cv2.CV_64F)\n",
        "cv2_imshow(laplacian)"
      ],
      "execution_count": null,
      "outputs": []
    },
    {
      "cell_type": "markdown",
      "metadata": {
        "id": "xt-BjJDvvxUl"
      },
      "source": [
        "### Tuz Biber Gürültüsü Ekleme"
      ]
    },
    {
      "cell_type": "code",
      "metadata": {
        "id": "mOWXPhFPkIR8"
      },
      "source": [
        "import random\n",
        "def add_noise(image):\n",
        "  \n",
        "    # Getting the dimensions of the image\n",
        "    row , col = image.shape\n",
        "      \n",
        "    # Randomly pick some pixels in the\n",
        "    # image for coloring them white\n",
        "    # Pick a random number between 300 and 10000\n",
        "    number_of_pixels = random.randint(300, 10000)\n",
        "    for i in range(number_of_pixels):\n",
        "        \n",
        "        # Pick a random y coordinate\n",
        "        y_coord=random.randint(0, row - 1)\n",
        "          \n",
        "        # Pick a random x coordinate\n",
        "        x_coord=random.randint(0, col - 1)\n",
        "          \n",
        "        # Color that pixel to white\n",
        "        img[y_coord][x_coord] = 255\n",
        "          \n",
        "    # Randomly pick some pixels in\n",
        "    # the image for coloring them black\n",
        "    # Pick a random number between 300 and 10000\n",
        "    number_of_pixels = random.randint(300 , 10000)\n",
        "    for i in range(number_of_pixels):\n",
        "        \n",
        "        # Pick a random y coordinate\n",
        "        y_coord=random.randint(0, row - 1)\n",
        "          \n",
        "        # Pick a random x coordinate\n",
        "        x_coord=random.randint(0, col - 1)\n",
        "          \n",
        "        # Color that pixel to black\n",
        "        img[y_coord][x_coord] = 0\n",
        "          \n",
        "    return img\n",
        "  \n",
        "# salt-and-pepper noise can\n",
        "# be applied only to greyscale images\n",
        "# Reading the color image in greyscale image\n",
        "img = cv2.imread('Lenna.png',\n",
        "                 cv2.IMREAD_GRAYSCALE)\n",
        "  \n",
        "#Storing the image\n",
        "cv2.imwrite('salt-and-pepper-lena.jpg',\n",
        "            add_noise(img))"
      ],
      "execution_count": null,
      "outputs": []
    }
  ]
}